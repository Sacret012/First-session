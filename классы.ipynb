{
 "cells": [
  {
   "cell_type": "code",
   "execution_count": 52,
   "id": "80844d70",
   "metadata": {},
   "outputs": [],
   "source": [
    "class smartphone():\n",
    "    all = []\n",
    "    \n",
    "    def __init__(self, name, os, cpu, ram, rom, camera, battery):\n",
    "        self.name = name\n",
    "        self.os = os\n",
    "        self.cpu = cpu\n",
    "        self.ram = int(ram)\n",
    "        self.rom = int(rom) \n",
    "        self.camera = camera\n",
    "        self.size =5000\n",
    "        self.battery =0\n",
    "    \n",
    "    \n",
    "    def __repr__(self):\n",
    "        return (f'this is {self.name}, {self.os}, {self.cpu}, {self.ram}, {self.rom}, {self.battery}')\n",
    "    \n",
    "    \n",
    "    def charge(self):\n",
    "        self.battery = self.size\n",
    "        print(f\"battery level of {self.name} is full now\" )\n",
    "        \n",
    "    def games(self):\n",
    "        if(self.battery>500):\n",
    "            print(\"you are playing game now\")\n",
    "        else:\n",
    "            print(\"charge your smartphone\")\n",
    "            self.battery =-500\n",
    "            \n",
    "    def download(self):\n",
    "        if(self.rom>256):\n",
    "            print(\"u download game\")\n",
    "        else:\n",
    "            print(\"clean some space\")\n",
    "            self.rom=-128\n",
    "            \n",
    "    def system(self):\n",
    "        if(self.ram>6):\n",
    "          print(\"u can play\")\n",
    "        else:\n",
    "            print(\"u ram is too low\")\n",
    "            \n",
    "    def fast(self):\n",
    "        if(self.cpu ==\"sd4\"):\n",
    "            print(\"u phone support fast charge\")\n",
    "        else:\n",
    "            print(\"u phone doesnot support fast charge\")\n",
    "            \n",
    "            "
   ]
  },
  {
   "cell_type": "code",
   "execution_count": 53,
   "id": "ef12a989",
   "metadata": {},
   "outputs": [],
   "source": [
    "smartphone1 = smartphone('Xiaomi Redmi Note 9','Android 11','sd3','4','128', '48MP','li-lion')\n",
    "smartphone2 = smartphone('Samsung Galaxy S21','Android 11','sd4','12','512', '128MP','li-lion')\n",
    "smartphone3 = smartphone('Huawei P40','Harmony','sd4','8','256', '128MP','li-lion')"
   ]
  },
  {
   "cell_type": "code",
   "execution_count": 54,
   "id": "10122964",
   "metadata": {},
   "outputs": [
    {
     "name": "stdout",
     "output_type": "stream",
     "text": [
      "this is Samsung Galaxy S21, Android 11, sd4, 12, 512, 0\n"
     ]
    }
   ],
   "source": [
    "print(smartphone2)"
   ]
  },
  {
   "cell_type": "code",
   "execution_count": 55,
   "id": "22ee9e56",
   "metadata": {},
   "outputs": [
    {
     "name": "stdout",
     "output_type": "stream",
     "text": [
      "charge your smartphone\n"
     ]
    }
   ],
   "source": [
    "smartphone2.games()"
   ]
  },
  {
   "cell_type": "code",
   "execution_count": 56,
   "id": "483589c5",
   "metadata": {},
   "outputs": [
    {
     "name": "stdout",
     "output_type": "stream",
     "text": [
      "battery level of Samsung Galaxy S21 is full now\n"
     ]
    }
   ],
   "source": [
    "smartphone2.charge()"
   ]
  },
  {
   "cell_type": "code",
   "execution_count": 57,
   "id": "cf5bc707",
   "metadata": {},
   "outputs": [
    {
     "name": "stdout",
     "output_type": "stream",
     "text": [
      "you are playing game now\n"
     ]
    }
   ],
   "source": [
    "smartphone2.games()"
   ]
  },
  {
   "cell_type": "code",
   "execution_count": 58,
   "id": "95ce2963",
   "metadata": {},
   "outputs": [
    {
     "name": "stdout",
     "output_type": "stream",
     "text": [
      "u download game\n"
     ]
    }
   ],
   "source": [
    "smartphone2.download()"
   ]
  },
  {
   "cell_type": "code",
   "execution_count": 59,
   "id": "9af569fa",
   "metadata": {},
   "outputs": [
    {
     "name": "stdout",
     "output_type": "stream",
     "text": [
      "u ram is too low\n"
     ]
    }
   ],
   "source": [
    "smartphone1.system()"
   ]
  },
  {
   "cell_type": "code",
   "execution_count": 60,
   "id": "baf7c686",
   "metadata": {},
   "outputs": [
    {
     "name": "stdout",
     "output_type": "stream",
     "text": [
      "u phone doesnot support fast charge\n"
     ]
    }
   ],
   "source": [
    "smartphone1.fast()"
   ]
  },
  {
   "cell_type": "code",
   "execution_count": null,
   "id": "16abb246",
   "metadata": {},
   "outputs": [],
   "source": []
  },
  {
   "cell_type": "code",
   "execution_count": null,
   "id": "c8aae7cb",
   "metadata": {},
   "outputs": [],
   "source": []
  }
 ],
 "metadata": {
  "kernelspec": {
   "display_name": "Python 3",
   "language": "python",
   "name": "python3"
  },
  "language_info": {
   "codemirror_mode": {
    "name": "ipython",
    "version": 3
   },
   "file_extension": ".py",
   "mimetype": "text/x-python",
   "name": "python",
   "nbconvert_exporter": "python",
   "pygments_lexer": "ipython3",
   "version": "3.8.8"
  }
 },
 "nbformat": 4,
 "nbformat_minor": 5
}
