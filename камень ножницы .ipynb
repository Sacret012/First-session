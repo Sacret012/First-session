{
 "cells": [
  {
   "cell_type": "code",
   "execution_count": 1,
   "id": "911f29d0",
   "metadata": {},
   "outputs": [
    {
     "name": "stdout",
     "output_type": "stream",
     "text": [
      "Введите текст:нет\n",
      "['тен']\n"
     ]
    }
   ],
   "source": [
    "s= input(\"Введите текст:\")\n",
    "d = s.split()\n",
    "result = []\n",
    "for i in d:\n",
    "    result.append(i[-1] + i[1:-1] + i[0])\n",
    "print(result)"
   ]
  },
  {
   "cell_type": "code",
   "execution_count": 29,
   "id": "a0c74072",
   "metadata": {},
   "outputs": [
    {
     "name": "stdout",
     "output_type": "stream",
     "text": [
      "фыв6\n",
      "720\n"
     ]
    }
   ],
   "source": [
    "a=int(input(\"фыв\"))\n",
    "\n",
    "def fac(n):\n",
    "    if n == 0:\n",
    "        return 1\n",
    "    return fac(n-1) * n\n",
    " \n",
    " \n",
    "print(fac(a))"
   ]
  },
  {
   "cell_type": "code",
   "execution_count": 28,
   "id": "b4034e41",
   "metadata": {},
   "outputs": [
    {
     "name": "stdout",
     "output_type": "stream",
     "text": [
      "выберите камень, ножницы  или бумагукамень\n",
      " \n",
      " Вы взяли камень, компьютер бумага.\n",
      "\n"
     ]
    }
   ],
   "source": [
    "a=input(\"выберите камень, ножницы  или бумагу\")\n",
    "\n",
    "import random \n",
    "b = [\"камень\", \"бумага\", \"ножницы\"]\n",
    "c = random.choice(b)\n",
    "print(f\" \\n Вы взяли {a}, компьютер {c}.\\n\")\n",
    "\n"
   ]
  },
  {
   "cell_type": "code",
   "execution_count": null,
   "id": "39263cef",
   "metadata": {},
   "outputs": [],
   "source": []
  }
 ],
 "metadata": {
  "kernelspec": {
   "display_name": "Python 3",
   "language": "python",
   "name": "python3"
  },
  "language_info": {
   "codemirror_mode": {
    "name": "ipython",
    "version": 3
   },
   "file_extension": ".py",
   "mimetype": "text/x-python",
   "name": "python",
   "nbconvert_exporter": "python",
   "pygments_lexer": "ipython3",
   "version": "3.8.8"
  }
 },
 "nbformat": 4,
 "nbformat_minor": 5
}
