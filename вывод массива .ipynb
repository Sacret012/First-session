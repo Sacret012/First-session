{
 "cells": [
  {
   "cell_type": "code",
   "execution_count": 1,
   "id": "162523b3",
   "metadata": {},
   "outputs": [
    {
     "name": "stdout",
     "output_type": "stream",
     "text": [
      "5\n",
      "5\n",
      "[[36, 75, 78, 100, 51], [55, 40, 88, 72, 32], [6, 1, 36, 92, 16], [13, 26, 61, 82, 99], [58, 74, 17, 46, 62]]\n"
     ]
    }
   ],
   "source": [
    "from random import randint \n",
    "\n",
    "a=int(input())\n",
    "b=int(input())\n",
    "\n",
    "x= [[i for i in range(a)]]\n",
    "for i in range (b-1):\n",
    "    x+=[[i for i in range(a)]]\n",
    "for j in range(b):\n",
    "    for o in range(a):\n",
    "        x[j-1][o-1]=randint(0,100)\n",
    "        \n",
    "print(x)"
   ]
  },
  {
   "cell_type": "code",
   "execution_count": null,
   "id": "19416e84",
   "metadata": {},
   "outputs": [],
   "source": []
  },
  {
   "cell_type": "code",
   "execution_count": null,
   "id": "863de1d4",
   "metadata": {},
   "outputs": [],
   "source": []
  }
 ],
 "metadata": {
  "kernelspec": {
   "display_name": "Python 3",
   "language": "python",
   "name": "python3"
  },
  "language_info": {
   "codemirror_mode": {
    "name": "ipython",
    "version": 3
   },
   "file_extension": ".py",
   "mimetype": "text/x-python",
   "name": "python",
   "nbconvert_exporter": "python",
   "pygments_lexer": "ipython3",
   "version": "3.8.8"
  }
 },
 "nbformat": 4,
 "nbformat_minor": 5
}
