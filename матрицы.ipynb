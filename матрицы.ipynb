{
 "cells": [
  {
   "cell_type": "code",
   "execution_count": 76,
   "id": "22e0d3de",
   "metadata": {},
   "outputs": [],
   "source": [
    "import numpy as np \n",
    "import random \n",
    "from random import randint\n",
    "import math \n",
    "T=0.8\n",
    "choices=[1,-1]\n",
    "size=4\n",
    "a=[[random.choice(choices) for i in range(size)]for j in range(size)]\n",
    "a=np.array(a)"
   ]
  },
  {
   "cell_type": "code",
   "execution_count": 64,
   "id": "93013d8c",
   "metadata": {},
   "outputs": [
    {
     "data": {
      "text/plain": [
       "array([[ 1,  1, -1, -1],\n",
       "       [-1, -1,  1,  1],\n",
       "       [-1, -1, -1,  1],\n",
       "       [-1, -1, -1, -1]])"
      ]
     },
     "execution_count": 64,
     "metadata": {},
     "output_type": "execute_result"
    }
   ],
   "source": [
    "a"
   ]
  },
  {
   "cell_type": "code",
   "execution_count": 55,
   "id": "407826c2",
   "metadata": {},
   "outputs": [],
   "source": [
    "c=[random.choice(a)]"
   ]
  },
  {
   "cell_type": "code",
   "execution_count": 66,
   "id": "8d1fa928",
   "metadata": {},
   "outputs": [],
   "source": [
    "summ1=0\n",
    "for j in range(size-1):\n",
    "    summ+=a[0][j]*a[0][j+1]\n",
    "\n",
    "summ1+=a[0][0]+a[0][size-1]"
   ]
  },
  {
   "cell_type": "code",
   "execution_count": 67,
   "id": "ad49dd1d",
   "metadata": {},
   "outputs": [
    {
     "data": {
      "text/plain": [
       "0"
      ]
     },
     "execution_count": 67,
     "metadata": {},
     "output_type": "execute_result"
    }
   ],
   "source": [
    "summ1"
   ]
  },
  {
   "cell_type": "code",
   "execution_count": 68,
   "id": "aba07093",
   "metadata": {},
   "outputs": [],
   "source": [
    "summ2=0\n",
    "for j in range(size-1):\n",
    "    summ2+=a[1][j]*a[1][j+1]\n",
    "\n",
    "summ2+=a[1][1]+a[1][size-1]"
   ]
  },
  {
   "cell_type": "code",
   "execution_count": 69,
   "id": "1821ac9d",
   "metadata": {},
   "outputs": [],
   "source": [
    "summ3=0\n",
    "for j in range(size-1):\n",
    "    summ3+=a[2][j]*a[2][j+1]\n",
    "\n",
    "summ3+=a[2][0]+a[2][size-1]"
   ]
  },
  {
   "cell_type": "code",
   "execution_count": 70,
   "id": "b29b6d93",
   "metadata": {},
   "outputs": [],
   "source": [
    "summ4=0\n",
    "for j in range(size-1):\n",
    "    summ4+=a[3][j]*a[3][j+1]\n",
    "\n",
    "summ4+=a[3][0]+a[0][size-1]"
   ]
  },
  {
   "cell_type": "code",
   "execution_count": 71,
   "id": "8d49f5ef",
   "metadata": {},
   "outputs": [
    {
     "data": {
      "text/plain": [
       "[array([-1, -1,  1, -1])]"
      ]
     },
     "execution_count": 71,
     "metadata": {},
     "output_type": "execute_result"
    }
   ],
   "source": [
    "c"
   ]
  },
  {
   "cell_type": "code",
   "execution_count": 72,
   "id": "f7669f8c",
   "metadata": {},
   "outputs": [
    {
     "data": {
      "text/plain": [
       "1"
      ]
     },
     "execution_count": 72,
     "metadata": {},
     "output_type": "execute_result"
    }
   ],
   "source": [
    "summX=summ2-summ1\n",
    "summX"
   ]
  },
  {
   "cell_type": "code",
   "execution_count": 74,
   "id": "12b44eb9",
   "metadata": {},
   "outputs": [
    {
     "data": {
      "text/plain": [
       "0"
      ]
     },
     "execution_count": 74,
     "metadata": {},
     "output_type": "execute_result"
    }
   ],
   "source": [
    "randint(0,1)"
   ]
  },
  {
   "cell_type": "code",
   "execution_count": 78,
   "id": "0eb92560",
   "metadata": {},
   "outputs": [],
   "source": [
    "W=math.exp(-summX/T)"
   ]
  },
  {
   "cell_type": "code",
   "execution_count": 79,
   "id": "59f004eb",
   "metadata": {},
   "outputs": [
    {
     "data": {
      "text/plain": [
       "0.2865047968601901"
      ]
     },
     "execution_count": 79,
     "metadata": {},
     "output_type": "execute_result"
    }
   ],
   "source": [
    "W"
   ]
  },
  {
   "cell_type": "code",
   "execution_count": null,
   "id": "b724d13a",
   "metadata": {},
   "outputs": [],
   "source": []
  },
  {
   "cell_type": "code",
   "execution_count": null,
   "id": "f32b4d12",
   "metadata": {},
   "outputs": [],
   "source": []
  }
 ],
 "metadata": {
  "kernelspec": {
   "display_name": "Python 3",
   "language": "python",
   "name": "python3"
  },
  "language_info": {
   "codemirror_mode": {
    "name": "ipython",
    "version": 3
   },
   "file_extension": ".py",
   "mimetype": "text/x-python",
   "name": "python",
   "nbconvert_exporter": "python",
   "pygments_lexer": "ipython3",
   "version": "3.8.8"
  }
 },
 "nbformat": 4,
 "nbformat_minor": 5
}
