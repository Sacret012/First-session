{
 "cells": [
  {
   "cell_type": "code",
   "execution_count": 1,
   "id": "63c80a3b",
   "metadata": {},
   "outputs": [
    {
     "name": "stdout",
     "output_type": "stream",
     "text": [
      "камень(к) ножницы(н) бумага(б) ?к\n",
      "к против\n",
      "б\n",
      "победил компьютер\n"
     ]
    }
   ],
   "source": [
    "from random import randint\n",
    "\n",
    "user=input(\"камень(к) ножницы(н) бумага(б) ?\")\n",
    "print(user, \"против\")\n",
    "\n",
    "chosen=randint(1,3)\n",
    "\n",
    "\n",
    "if chosen==1:\n",
    "  cp=\"к\"\n",
    "\n",
    "elif chosen==2:\n",
    "  cp=\"н\"\n",
    "\n",
    "else:\n",
    "  cp=\"б\"\n",
    "    \n",
    "print(cp)\n",
    "\n",
    "if user==cp:\n",
    "  print(\"ничья\")\n",
    "elif user==\"к\" and cp==\"н\":\n",
    "  print(\"победил игрок\")\n",
    "elif user==\"к\" and cp==\"б\":\n",
    "  print(\"победил компьютер\")\n",
    "elif user==\"н\" and cp==\"б\":\n",
    "  print(\"победил игрок\")\n",
    "elif user==\"н\" and cp==\"к\":\n",
    "  print(\"победил комьютер\")\n",
    "elif user==\"б\" and cp==\"н\":\n",
    "  print(\"победил комьютер\")\n",
    "elif user==\"б\" and cp==\"к\":\n",
    "  print(\"победил игрок\")\n"
   ]
  },
  {
   "cell_type": "code",
   "execution_count": null,
   "id": "b451add0",
   "metadata": {},
   "outputs": [],
   "source": []
  },
  {
   "cell_type": "code",
   "execution_count": null,
   "id": "c926983d",
   "metadata": {},
   "outputs": [],
   "source": []
  }
 ],
 "metadata": {
  "kernelspec": {
   "display_name": "Python 3",
   "language": "python",
   "name": "python3"
  },
  "language_info": {
   "codemirror_mode": {
    "name": "ipython",
    "version": 3
   },
   "file_extension": ".py",
   "mimetype": "text/x-python",
   "name": "python",
   "nbconvert_exporter": "python",
   "pygments_lexer": "ipython3",
   "version": "3.8.8"
  }
 },
 "nbformat": 4,
 "nbformat_minor": 5
}
